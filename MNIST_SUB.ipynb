{
 "cells": [
  {
   "cell_type": "markdown",
   "metadata": {},
   "source": [
    "This part defines the items i will be using"
   ]
  },
  {
   "cell_type": "code",
   "execution_count": 11,
   "metadata": {
    "collapsed": true
   },
   "outputs": [],
   "source": [
    "import numpy as np \n",
    "import pandas as pd\n",
    "from sklearn.linear_model import LogisticRegression\n",
    "import matplotlib.pyplot as plt, matplotlib.image as mpimg\n",
    "from sklearn import svm\n",
    "from sklearn.model_selection import train_test_split\n",
    "from scipy.optimize import minimize\n",
    "%matplotlib inline"
   ]
  },
  {
   "cell_type": "markdown",
   "metadata": {},
   "source": [
    "Here i set up the dataset from the kaggle from my computer\n",
    "I also print out some items in the dataset"
   ]
  },
  {
   "cell_type": "code",
   "execution_count": 12,
   "metadata": {},
   "outputs": [
    {
     "name": "stdout",
     "output_type": "stream",
     "text": [
      "   label  pixel0  pixel1  pixel2  pixel3  pixel4  pixel5  pixel6  pixel7  \\\n",
      "0      1       0       0       0       0       0       0       0       0   \n",
      "1      0       0       0       0       0       0       0       0       0   \n",
      "2      1       0       0       0       0       0       0       0       0   \n",
      "3      4       0       0       0       0       0       0       0       0   \n",
      "4      0       0       0       0       0       0       0       0       0   \n",
      "\n",
      "   pixel8    ...     pixel774  pixel775  pixel776  pixel777  pixel778  \\\n",
      "0       0    ...            0         0         0         0         0   \n",
      "1       0    ...            0         0         0         0         0   \n",
      "2       0    ...            0         0         0         0         0   \n",
      "3       0    ...            0         0         0         0         0   \n",
      "4       0    ...            0         0         0         0         0   \n",
      "\n",
      "   pixel779  pixel780  pixel781  pixel782  pixel783  \n",
      "0         0         0         0         0         0  \n",
      "1         0         0         0         0         0  \n",
      "2         0         0         0         0         0  \n",
      "3         0         0         0         0         0  \n",
      "4         0         0         0         0         0  \n",
      "\n",
      "[5 rows x 785 columns]\n"
     ]
    }
   ],
   "source": [
    "data = pd.read_csv(\"/Users/romar/Documents/Dataset2/train.csv\")\n",
    "label = pd.read_csv(\"/Users/romar/Documents/Dataset2/train.csv\")\n",
    "print (data.head())"
   ]
  },
  {
   "cell_type": "markdown",
   "metadata": {},
   "source": [
    "Here i print out the total images from the dataset including the lables"
   ]
  },
  {
   "cell_type": "code",
   "execution_count": 13,
   "metadata": {},
   "outputs": [
    {
     "name": "stdout",
     "output_type": "stream",
     "text": [
      "(42000, 785)\n"
     ]
    }
   ],
   "source": [
    "data_m = data.as_matrix()\n",
    "print(data_m.shape)"
   ]
  },
  {
   "cell_type": "markdown",
   "metadata": {},
   "source": [
    "Here i print out an image from the dataset"
   ]
  },
  {
   "cell_type": "code",
   "execution_count": 14,
   "metadata": {
    "scrolled": true
   },
   "outputs": [
    {
     "data": {
      "text/plain": [
       "<matplotlib.image.AxesImage at 0x1dc8503a400>"
      ]
     },
     "execution_count": 14,
     "metadata": {},
     "output_type": "execute_result"
    },
    {
     "data": {
      "image/png": "[encoded data removed]",
      "text/plain": [
       "<matplotlib.figure.Figure at 0x1dc84f4a048>"
      ]
     },
     "metadata": {},
     "output_type": "display_data"
    }
   ],
   "source": [
    "plt.imshow(data_m[4,1:].reshape((28,28)))"
   ]
  },
  {
   "cell_type": "markdown",
   "metadata": {},
   "source": [
    "with data.iloc i am able to use the images and labels to split the the data so i make train and test sets so it can generalize good with new data "
   ]
  },
  {
   "cell_type": "code",
   "execution_count": 15,
   "metadata": {},
   "outputs": [
    {
     "name": "stderr",
     "output_type": "stream",
     "text": [
      "C:\\Users\\romar\\Anaconda3\\lib\\site-packages\\sklearn\\model_selection\\_split.py:2026: FutureWarning: From version 0.21, test_size will always complement train_size unless both are specified.\n",
      "  FutureWarning)\n"
     ]
    }
   ],
   "source": [
    "label = data.iloc[0:5000,:1]\n",
    "images = data.iloc[0:5000,1:]\n",
    "x_image, test_images, y_labels, test_labels = train_test_split(images, label, train_size = 0.8, random_state = 0) "
   ]
  },
  {
   "cell_type": "markdown",
   "metadata": {},
   "source": [
    "Here i use the LogisticRegression so i can train the model "
   ]
  },
  {
   "cell_type": "code",
   "execution_count": 17,
   "metadata": {},
   "outputs": [
    {
     "name": "stderr",
     "output_type": "stream",
     "text": [
      "C:\\Users\\romar\\Anaconda3\\lib\\site-packages\\sklearn\\utils\\validation.py:578: DataConversionWarning: A column-vector y was passed when a 1d array was expected. Please change the shape of y to (n_samples, ), for example using ravel().\n",
      "  y = column_or_1d(y, warn=True)\n"
     ]
    },
    {
     "data": {
      "text/plain": [
       "LogisticRegression(C=1.0, class_weight=None, dual=False, fit_intercept=True,\n",
       "          intercept_scaling=1, max_iter=100, multi_class='ovr', n_jobs=1,\n",
       "          penalty='l2', random_state=None, solver='liblinear', tol=0.0001,\n",
       "          verbose=0, warm_start=False)"
      ]
     },
     "execution_count": 17,
     "metadata": {},
     "output_type": "execute_result"
    }
   ],
   "source": [
    "logisticRegr = LogisticRegression()\n",
    "logisticRegr.fit(x_image, y_labels)"
   ]
  },
  {
   "cell_type": "markdown",
   "metadata": {},
   "source": [
    "I predict with logistic regression the test images up to 280000"
   ]
  },
  {
   "cell_type": "code",
   "execution_count": 18,
   "metadata": {},
   "outputs": [
    {
     "data": {
      "text/plain": [
       "array([7, 7, 6, 9, 2, 0, 8, 1, 4, 2, 8, 8, 5, 3, 2, 5, 9, 0, 5, 8, 6, 0, 4,\n",
       "       6, 5, 8, 3, 1, 2, 3, 2, 5, 0, 0, 5, 4, 0, 7, 1, 2, 9, 4, 3, 2, 8, 4,\n",
       "       0, 0, 8, 8, 5, 0, 1, 6, 5, 8, 5, 9, 4, 3, 9, 0, 4, 0, 1, 7, 5, 0, 1,\n",
       "       3, 5, 2, 0, 1, 2, 0, 1, 7, 0, 9, 2, 9, 7, 7, 5, 0, 7, 9, 1, 5, 4, 8,\n",
       "       9, 0, 4, 7, 2, 8, 9, 7, 5, 2, 2, 6, 0, 4, 8, 9, 3, 1, 3, 4, 0, 6, 8,\n",
       "       8, 6, 4, 0, 2, 9, 8, 2, 6, 7, 9, 8, 5, 9, 1, 7, 8, 2, 7, 4, 5, 6, 9,\n",
       "       2, 7, 9, 3, 1, 4, 4, 6, 1, 8, 3, 7, 5, 1, 6, 3, 2, 1, 4, 9, 4, 2, 3,\n",
       "       5, 4, 7, 7, 9, 2, 8, 9, 9, 1, 8, 4, 9, 9, 0, 5, 6, 5, 4, 3, 4, 0, 3,\n",
       "       6, 2, 4, 1, 5, 0, 6, 6, 4, 0, 1, 9, 5, 4, 7, 2, 7, 2, 3, 6, 0, 4, 2,\n",
       "       3, 0, 9, 9, 1, 9, 2, 1, 4, 3, 8, 3, 8, 2, 6, 7, 2, 0, 7, 0, 0, 7, 0,\n",
       "       1, 4, 5, 8, 4, 1, 2, 6, 3, 2, 1, 8, 1, 1, 2, 5, 5, 0, 4, 9, 1, 1, 2,\n",
       "       7, 9, 3, 1, 9, 6, 3, 8, 6, 7, 3, 5, 6, 0, 0, 1, 3, 4, 7, 1, 7, 2, 6,\n",
       "       8, 9, 7, 8, 1, 1, 8, 9, 5, 6, 9, 4, 2, 8, 7, 7, 4, 7, 3, 4, 1, 3, 6,\n",
       "       8, 3, 7, 2, 5, 7, 2, 7, 2, 7, 4, 1, 2, 8, 7, 4, 2, 9, 1, 5, 7, 5, 1,\n",
       "       1, 3, 1, 7, 8, 3, 7, 7, 9, 1, 6, 9, 3, 1, 3, 2, 6, 2, 5, 0, 4, 0, 3,\n",
       "       6, 0, 0, 0, 1, 4, 0, 8, 5, 2, 2, 2, 1, 7, 2, 2, 5, 9, 4, 1, 4, 1, 7,\n",
       "       0, 3, 8, 3, 6, 9, 3, 2, 0, 5, 4, 5, 3, 0, 4, 1, 7, 3, 0, 7, 7, 0, 9,\n",
       "       6, 0, 0, 0, 7, 0, 0, 8, 4, 3, 8, 9, 0, 5, 6, 4, 2, 8, 4, 1, 8, 0, 4,\n",
       "       8, 3, 9, 0, 6, 5, 5, 3, 5, 9, 5, 1, 5, 9, 3, 9, 6, 0, 9, 3, 8, 9, 9,\n",
       "       6, 1, 4, 7, 9, 9, 7, 5, 9, 7, 7, 8, 3, 4, 8, 0, 6, 2, 0, 3, 2, 2, 6,\n",
       "       3, 1, 2, 2, 1, 3, 9, 9, 8, 8, 9, 8, 7, 4, 5, 8, 7, 7, 9, 9, 1, 9, 6,\n",
       "       5, 5, 5, 9, 1, 9, 8, 2, 6, 5, 7, 9, 5, 6, 8, 9, 9, 5, 6, 6, 0, 3, 1,\n",
       "       5, 2, 1, 2, 8, 1, 6, 1, 6, 8, 9, 8, 6, 1, 0, 2, 9, 0, 0, 9, 2, 3, 2,\n",
       "       4, 0, 6, 4, 9, 4, 3, 9, 0, 1, 1, 4, 3, 0, 8, 5, 3, 2, 3, 1, 7, 2, 0,\n",
       "       2, 2, 6, 1, 8, 6, 3, 6, 6, 5, 0, 7, 8, 4, 9, 5, 5, 1, 2, 3, 6, 6, 5,\n",
       "       0, 6, 3, 9, 2, 1, 0, 2, 2, 6, 3, 7, 9, 5, 4, 6, 1, 7, 7, 2, 0, 6, 4,\n",
       "       4, 6, 7, 0, 0, 3, 0, 9, 9, 1, 8, 3, 2, 6, 0, 6, 7, 1, 6, 7, 3, 8, 2,\n",
       "       7, 1, 3, 6, 6, 3, 4, 9, 7, 2, 8, 4, 4, 7, 1, 5, 1, 0, 0, 6, 6, 3, 6,\n",
       "       7, 7, 1, 7, 5, 1, 5, 8, 1, 4, 4, 2, 4, 6, 9, 3, 1, 9, 1, 0, 7, 5, 1,\n",
       "       4, 2, 7, 4, 2, 7, 1, 5, 2, 4, 0, 3, 1, 2, 8, 8, 8, 7, 4, 2, 4, 4, 4,\n",
       "       2, 5, 0, 2, 8, 0, 6, 5, 3, 0, 6, 8, 4, 1, 0, 4, 5, 3, 3, 3, 4, 9, 9,\n",
       "       3, 1, 9, 5, 8, 3, 9, 9, 1, 3, 5, 4, 9, 5, 4, 7, 9, 6, 2, 3, 1, 0, 2,\n",
       "       3, 0, 8, 7, 3, 9, 7, 5, 1, 1, 7, 8, 2, 1, 2, 7, 3, 1, 0, 9, 0, 6, 7,\n",
       "       9, 9, 4, 0, 6, 3, 9, 7, 8, 8, 7, 5, 2, 4, 1, 0, 0, 4, 4, 9, 3, 2, 9,\n",
       "       8, 2, 7, 7, 8, 0, 8, 7, 1, 5, 6, 1, 5, 1, 6, 4, 4, 5, 9, 3, 3, 9, 7,\n",
       "       1, 9, 1, 7, 4, 8, 6, 1, 9, 7, 7, 4, 9, 6, 5, 7, 6, 7, 5, 8, 3, 7, 9,\n",
       "       8, 1, 8, 5, 8, 8, 7, 0, 6, 8, 9, 0, 3, 4, 7, 4, 2, 5, 0, 8, 7, 7, 0,\n",
       "       9, 2, 3, 4, 0, 7, 8, 8, 8, 6, 0, 0, 4, 3, 1, 4, 2, 8, 6, 5, 8, 2, 4,\n",
       "       2, 6, 1, 7, 2, 0, 5, 1, 3, 6, 0, 8, 4, 2, 3, 3, 3, 5, 9, 0, 8, 3, 0,\n",
       "       2, 6, 0, 8, 2, 5, 4, 6, 0, 3, 9, 0, 7, 5, 6, 2, 4, 0, 3, 1, 6, 6, 6,\n",
       "       3, 1, 6, 3, 4, 0, 8, 0, 6, 1, 4, 1, 3, 0, 6, 8, 1, 3, 8, 7, 4, 8, 7,\n",
       "       8, 1, 3, 0, 5, 3, 6, 5, 7, 9, 5, 2, 7, 7, 0, 1, 1, 2, 0, 8, 2, 8, 9,\n",
       "       4, 4, 6, 7, 6, 4, 9, 8, 5, 6, 6, 6, 3, 2, 0, 7, 1, 8, 9, 6, 1, 7, 3,\n",
       "       6, 8, 1, 3, 6, 6, 0, 4, 6, 7, 1], dtype=int64)"
      ]
     },
     "execution_count": 18,
     "metadata": {},
     "output_type": "execute_result"
    }
   ],
   "source": [
    "logisticRegr.predict(test_images[0:28000])"
   ]
  },
  {
   "cell_type": "markdown",
   "metadata": {},
   "source": [
    "Here i test my model and see how well it did."
   ]
  },
  {
   "cell_type": "code",
   "execution_count": 19,
   "metadata": {},
   "outputs": [
    {
     "name": "stdout",
     "output_type": "stream",
     "text": [
      "0.797\n"
     ]
    }
   ],
   "source": [
    "score = logisticRegr.score(test_images, test_labels)\n",
    "print(score)"
   ]
  },
  {
   "cell_type": "markdown",
   "metadata": {},
   "source": [
    "Here i just ready my data and test it with the test datasets from kaggle "
   ]
  },
  {
   "cell_type": "code",
   "execution_count": 20,
   "metadata": {},
   "outputs": [
    {
     "name": "stdout",
     "output_type": "stream",
     "text": [
      "[2 0 8 ..., 3 9 2]\n"
     ]
    }
   ],
   "source": [
    "test_data=pd.read_csv(\"/Users/romar/Documents/Dataset2/test.csv\")\n",
    "results=logisticRegr.predict(test_data[0:28000])\n",
    "print(results)"
   ]
  },
  {
   "cell_type": "code",
   "execution_count": 21,
   "metadata": {
    "collapsed": true
   },
   "outputs": [],
   "source": [
    "df = pd.DataFrame(results)\n",
    "df.index+=1\n",
    "df.index.name='ImageId'\n",
    "df.columns=['Label']\n",
    "df.to_csv('results3.csv', header=True)"
   ]
  }
 ],
 "metadata": {
  "kernelspec": {
   "display_name": "Python 3",
   "language": "python",
   "name": "python3"
  },
  "language_info": {
   "codemirror_mode": {
    "name": "ipython",
    "version": 3
   },
   "file_extension": ".py",
   "mimetype": "text/x-python",
   "name": "python",
   "nbconvert_exporter": "python",
   "pygments_lexer": "ipython3",
   "version": "3.6.3"
  }
 },
 "nbformat": 4,
 "nbformat_minor": 2
}
